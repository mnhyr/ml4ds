{
  "metadata": {
    "kernelspec": {
      "language": "python",
      "display_name": "Python 3",
      "name": "python3"
    },
    "language_info": {
      "pygments_lexer": "ipython3",
      "nbconvert_exporter": "python",
      "version": "3.6.4",
      "file_extension": ".py",
      "codemirror_mode": {
        "name": "ipython",
        "version": 3
      },
      "name": "python",
      "mimetype": "text/x-python"
    },
    "colab": {
      "provenance": [],
      "include_colab_link": true
    }
  },
  "nbformat_minor": 0,
  "nbformat": 4,
  "cells": [
    {
      "cell_type": "markdown",
      "metadata": {
        "id": "view-in-github",
        "colab_type": "text"
      },
      "source": [
        "<a href=\"https://colab.research.google.com/github/mnhyr/ml4ds/blob/nn_fashion_mist/nn_fmnist.ipynb\" target=\"_parent\"><img src=\"https://colab.research.google.com/assets/colab-badge.svg\" alt=\"Open In Colab\"/></a>"
      ]
    },
    {
      "cell_type": "markdown",
      "source": [
        "[![Open In Colab](https://colab.research.google.com/assets/colab-badge.svg)](https://colab.research.google.com/github/xiptos/is_notes/blob/main/nn_fmnist.ipynb)"
      ],
      "metadata": {
        "collapsed": false,
        "id": "N6Eqbh0vmhSF"
      }
    },
    {
      "cell_type": "markdown",
      "source": [
        "# Introduction\n",
        "\n",
        "This notebook presents a simple guide to creating an artificial neural network with PyTorch. It will predict the outcome of the fashion images from the [Zalando's article images](https://github.com/zalandoresearch/fashion-mnist) (Fashion-MNIST).\n",
        "\n",
        "The guide contains the most elementary PyTorch elements to create and evaluate a network.\n",
        ""
      ],
      "metadata": {
        "collapsed": false,
        "id": "2PP7-gsimhSG"
      }
    },
    {
      "cell_type": "code",
      "source": [
        "import torch\n",
        "from torch import nn\n",
        "from torch.nn import functional as F\n",
        "\n",
        "from torch.utils.data import DataLoader # loads data in batches\n",
        "from torchvision import datasets # load Fasion-MNIST\n",
        "import torchvision.transforms as T # transformers for computer vision"
      ],
      "metadata": {
        "_uuid": "8f2839f25d086af736a60e9eeb907d3b93b6e0e5",
        "_cell_guid": "b1076dfc-b9ad-4769-8c92-a6c4dae69d19",
        "execution": {
          "iopub.status.busy": "2022-11-20T11:59:55.135283Z",
          "iopub.execute_input": "2022-11-20T11:59:55.135779Z",
          "iopub.status.idle": "2022-11-20T11:59:57.228738Z",
          "shell.execute_reply.started": "2022-11-20T11:59:55.135682Z",
          "shell.execute_reply": "2022-11-20T11:59:57.227699Z"
        },
        "trusted": true,
        "id": "povB2pn3mhSG"
      },
      "execution_count": 1,
      "outputs": []
    },
    {
      "cell_type": "code",
      "source": [
        "import numpy as np\n",
        "import matplotlib.pyplot as plt\n",
        "from tqdm import tqdm # progress bar"
      ],
      "metadata": {
        "execution": {
          "iopub.status.busy": "2022-11-20T12:00:09.84164Z",
          "iopub.execute_input": "2022-11-20T12:00:09.842235Z",
          "iopub.status.idle": "2022-11-20T12:00:09.84754Z",
          "shell.execute_reply.started": "2022-11-20T12:00:09.842194Z",
          "shell.execute_reply": "2022-11-20T12:00:09.846605Z"
        },
        "trusted": true,
        "id": "lRLQYcUKmhSH"
      },
      "execution_count": 2,
      "outputs": []
    },
    {
      "cell_type": "markdown",
      "source": [
        "# Torchvision datasets\n",
        "\n",
        "We obtain the [Fashion-MNIST dataset](http://pytorch.org/vision/main/generated/torchvision.datasets.FashionMNIST.html) via torchvision. The dataset contains a training set of 60,000 examples and a test set of 10,000 examples. Each example is a 28x28 grayscale image, associated with a label from 10 classes. Note that `datasets` is an object imported from torchvision, not to confuse with from the Dataset object (used in torch.utils.data import Dataset)\n",
        "\n",
        "```from torchvision import datasets```\n",
        "\n",
        "When called for the first time, the datasets will be downloaded to the path specified in the `root` argument. After that, Torchvision will look first for a local copy before attempting another download."
      ],
      "metadata": {
        "execution": {
          "iopub.status.busy": "2022-08-05T23:37:48.188818Z",
          "iopub.execute_input": "2022-08-05T23:37:48.18922Z",
          "iopub.status.idle": "2022-08-05T23:37:48.193684Z",
          "shell.execute_reply.started": "2022-08-05T23:37:48.18919Z",
          "shell.execute_reply": "2022-08-05T23:37:48.192628Z"
        },
        "id": "cZ4U14_MmhSH"
      }
    },
    {
      "cell_type": "markdown",
      "source": [
        "> **torchvision.transforms**. A transformer operates on the data. Using the ' transform' argument, we can apply multiple transformations (reshape, convert to tensor, normalize, etc.) to the data obtained."
      ],
      "metadata": {
        "execution": {
          "iopub.status.busy": "2022-08-06T22:12:57.413031Z",
          "iopub.execute_input": "2022-08-06T22:12:57.413408Z",
          "iopub.status.idle": "2022-08-06T22:12:57.419602Z",
          "shell.execute_reply.started": "2022-08-06T22:12:57.413377Z",
          "shell.execute_reply": "2022-08-06T22:12:57.418347Z"
        },
        "id": "Zx_naN-dmhSI"
      }
    },
    {
      "cell_type": "code",
      "source": [
        "mytransform = T.ToTensor() # image (3D array) to Tensor\n",
        "\n",
        "train_data = datasets.FashionMNIST(root = './', download=True, train = True, transform = mytransform)\n",
        "test_data = datasets.FashionMNIST(root = './', download=True, train = False, transform = mytransform)"
      ],
      "metadata": {
        "execution": {
          "iopub.status.busy": "2022-11-20T12:00:16.383148Z",
          "iopub.execute_input": "2022-11-20T12:00:16.3836Z",
          "iopub.status.idle": "2022-11-20T12:00:19.65425Z",
          "shell.execute_reply.started": "2022-11-20T12:00:16.383563Z",
          "shell.execute_reply": "2022-11-20T12:00:19.653126Z"
        },
        "trusted": true,
        "colab": {
          "base_uri": "https://localhost:8080/"
        },
        "id": "x_7QstsImhSI",
        "outputId": "c8132dcb-d8fc-40fb-d128-d8a5414d224a"
      },
      "execution_count": 3,
      "outputs": [
        {
          "output_type": "stream",
          "name": "stdout",
          "text": [
            "Downloading http://fashion-mnist.s3-website.eu-central-1.amazonaws.com/train-images-idx3-ubyte.gz\n",
            "Downloading http://fashion-mnist.s3-website.eu-central-1.amazonaws.com/train-images-idx3-ubyte.gz to ./FashionMNIST/raw/train-images-idx3-ubyte.gz\n"
          ]
        },
        {
          "output_type": "stream",
          "name": "stderr",
          "text": [
            "100%|██████████| 26.4M/26.4M [00:02<00:00, 11.2MB/s]\n"
          ]
        },
        {
          "output_type": "stream",
          "name": "stdout",
          "text": [
            "Extracting ./FashionMNIST/raw/train-images-idx3-ubyte.gz to ./FashionMNIST/raw\n",
            "\n",
            "Downloading http://fashion-mnist.s3-website.eu-central-1.amazonaws.com/train-labels-idx1-ubyte.gz\n",
            "Downloading http://fashion-mnist.s3-website.eu-central-1.amazonaws.com/train-labels-idx1-ubyte.gz to ./FashionMNIST/raw/train-labels-idx1-ubyte.gz\n"
          ]
        },
        {
          "output_type": "stream",
          "name": "stderr",
          "text": [
            "100%|██████████| 29.5k/29.5k [00:00<00:00, 203kB/s]\n"
          ]
        },
        {
          "output_type": "stream",
          "name": "stdout",
          "text": [
            "Extracting ./FashionMNIST/raw/train-labels-idx1-ubyte.gz to ./FashionMNIST/raw\n",
            "\n",
            "Downloading http://fashion-mnist.s3-website.eu-central-1.amazonaws.com/t10k-images-idx3-ubyte.gz\n",
            "Downloading http://fashion-mnist.s3-website.eu-central-1.amazonaws.com/t10k-images-idx3-ubyte.gz to ./FashionMNIST/raw/t10k-images-idx3-ubyte.gz\n"
          ]
        },
        {
          "output_type": "stream",
          "name": "stderr",
          "text": [
            "100%|██████████| 4.42M/4.42M [00:01<00:00, 3.76MB/s]\n"
          ]
        },
        {
          "output_type": "stream",
          "name": "stdout",
          "text": [
            "Extracting ./FashionMNIST/raw/t10k-images-idx3-ubyte.gz to ./FashionMNIST/raw\n",
            "\n",
            "Downloading http://fashion-mnist.s3-website.eu-central-1.amazonaws.com/t10k-labels-idx1-ubyte.gz\n",
            "Downloading http://fashion-mnist.s3-website.eu-central-1.amazonaws.com/t10k-labels-idx1-ubyte.gz to ./FashionMNIST/raw/t10k-labels-idx1-ubyte.gz\n"
          ]
        },
        {
          "output_type": "stream",
          "name": "stderr",
          "text": [
            "100%|██████████| 5.15k/5.15k [00:00<00:00, 5.03MB/s]"
          ]
        },
        {
          "output_type": "stream",
          "name": "stdout",
          "text": [
            "Extracting ./FashionMNIST/raw/t10k-labels-idx1-ubyte.gz to ./FashionMNIST/raw\n",
            "\n"
          ]
        },
        {
          "output_type": "stream",
          "name": "stderr",
          "text": [
            "\n"
          ]
        }
      ]
    },
    {
      "cell_type": "markdown",
      "source": [
        "Note that the first image in the dataset is a 3D tensor (C, H, W) for the number of channels (C), Height (H), and Width (W)."
      ],
      "metadata": {
        "id": "0EPJUCu2mhSI"
      }
    },
    {
      "cell_type": "code",
      "source": [
        "img, label = train_data[0]\n",
        "img.shape # returns a Tensor of Size 1,28,28"
      ],
      "metadata": {
        "execution": {
          "iopub.status.busy": "2022-11-20T12:00:24.385689Z",
          "iopub.execute_input": "2022-11-20T12:00:24.386099Z",
          "iopub.status.idle": "2022-11-20T12:00:24.39587Z",
          "shell.execute_reply.started": "2022-11-20T12:00:24.386067Z",
          "shell.execute_reply": "2022-11-20T12:00:24.394778Z"
        },
        "trusted": true,
        "colab": {
          "base_uri": "https://localhost:8080/"
        },
        "id": "S1o0I37KmhSI",
        "outputId": "c3c37d99-b623-4717-8125-3e704999d7ea"
      },
      "execution_count": 31,
      "outputs": [
        {
          "output_type": "execute_result",
          "data": {
            "text/plain": [
              "torch.Size([1, 28, 28])"
            ]
          },
          "metadata": {},
          "execution_count": 31
        }
      ]
    },
    {
      "cell_type": "markdown",
      "source": [
        "We plot the first image if we reshape the image into a 2D array (HxW)."
      ],
      "metadata": {
        "execution": {
          "iopub.status.busy": "2022-08-06T22:28:48.870011Z",
          "iopub.execute_input": "2022-08-06T22:28:48.870692Z",
          "iopub.status.idle": "2022-08-06T22:28:48.877179Z",
          "shell.execute_reply.started": "2022-08-06T22:28:48.870647Z",
          "shell.execute_reply": "2022-08-06T22:28:48.875971Z"
        },
        "id": "UeQCvL9SmhSJ"
      }
    },
    {
      "cell_type": "code",
      "source": [
        "# We could simply plot the tensor\n",
        "plt.imshow(img.reshape(28,28), cmap = 'gist_yarg'); # gist_yarg plots inverse of W&B\n",
        "plt.axis('off');"
      ],
      "metadata": {
        "execution": {
          "iopub.status.busy": "2022-11-20T12:00:26.922833Z",
          "iopub.execute_input": "2022-11-20T12:00:26.923289Z",
          "iopub.status.idle": "2022-11-20T12:00:27.049719Z",
          "shell.execute_reply.started": "2022-11-20T12:00:26.923244Z",
          "shell.execute_reply": "2022-11-20T12:00:27.048123Z"
        },
        "trusted": true,
        "colab": {
          "base_uri": "https://localhost:8080/",
          "height": 406
        },
        "id": "a2yMwnhJmhSJ",
        "outputId": "1cfd8d96-9cf2-4bf0-b025-587dd0650458"
      },
      "execution_count": 32,
      "outputs": [
        {
          "output_type": "display_data",
          "data": {
            "text/plain": [
              "<Figure size 640x480 with 1 Axes>"
            ],
            "image/png": "[encoded data removed]"
          },
          "metadata": {}
        }
      ]
    },
    {
      "cell_type": "markdown",
      "source": [
        "# DataLoader\n",
        "\n",
        "The PyTorch DataLoader object allows the preparation of the dataset in batches of different sizes and shuffles them if necessary when exposing them to the training.\n",
        "\n",
        "```from torch.utils.data import DataLoader```\n",
        "\n",
        "> Note that the DataLoader object shuffles the data by default."
      ],
      "metadata": {
        "id": "I1rNhn63mhSJ"
      }
    },
    {
      "cell_type": "code",
      "source": [
        "torch.manual_seed(101)\n",
        "\n",
        "train_loader = DataLoader(train_data, batch_size = 100, shuffle=True)\n",
        "# the test loader can be bigger and doesn't need to be shuffled\n",
        "test_loader =  DataLoader(test_data,  batch_size = 500, shuffle=False)"
      ],
      "metadata": {
        "execution": {
          "iopub.status.busy": "2022-11-20T12:00:30.888542Z",
          "iopub.execute_input": "2022-11-20T12:00:30.889634Z",
          "iopub.status.idle": "2022-11-20T12:00:30.898479Z",
          "shell.execute_reply.started": "2022-11-20T12:00:30.88958Z",
          "shell.execute_reply": "2022-11-20T12:00:30.89723Z"
        },
        "trusted": true,
        "id": "DMFUMDvmmhSJ"
      },
      "execution_count": 33,
      "outputs": []
    },
    {
      "cell_type": "markdown",
      "source": [
        "If we run one iteration now, we will have one batch of the training dataset (100 images and labels)."
      ],
      "metadata": {
        "id": "_fNWboG7mhSK"
      }
    },
    {
      "cell_type": "code",
      "source": [
        "# Plot 10 images\n",
        "for img, label in train_loader:\n",
        "    break # we run only one iteration , after that we break\n",
        "img.shape # bz, ch, W H"
      ],
      "metadata": {
        "execution": {
          "iopub.status.busy": "2022-11-20T12:00:51.706437Z",
          "iopub.execute_input": "2022-11-20T12:00:51.70682Z",
          "iopub.status.idle": "2022-11-20T12:00:51.736293Z",
          "shell.execute_reply.started": "2022-11-20T12:00:51.706789Z",
          "shell.execute_reply": "2022-11-20T12:00:51.735106Z"
        },
        "trusted": true,
        "colab": {
          "base_uri": "https://localhost:8080/"
        },
        "id": "LWeaNfXomhSK",
        "outputId": "a2299571-87fa-4992-8da1-358b2ea1fcb7"
      },
      "execution_count": 34,
      "outputs": [
        {
          "output_type": "execute_result",
          "data": {
            "text/plain": [
              "torch.Size([100, 1, 28, 28])"
            ]
          },
          "metadata": {},
          "execution_count": 34
        }
      ]
    },
    {
      "cell_type": "markdown",
      "source": [
        "Let's select the 50 first images of the batch to plot them."
      ],
      "metadata": {
        "id": "gbwJP7fNmhSK"
      }
    },
    {
      "cell_type": "code",
      "source": [
        "myimages = img[:50].numpy() # we now obtain NumPy arrays\n",
        "myimages.shape"
      ],
      "metadata": {
        "execution": {
          "iopub.status.busy": "2022-11-20T12:00:55.244671Z",
          "iopub.execute_input": "2022-11-20T12:00:55.245108Z",
          "iopub.status.idle": "2022-11-20T12:00:55.253224Z",
          "shell.execute_reply.started": "2022-11-20T12:00:55.245063Z",
          "shell.execute_reply": "2022-11-20T12:00:55.252062Z"
        },
        "trusted": true,
        "colab": {
          "base_uri": "https://localhost:8080/"
        },
        "id": "YWCfu44mmhSK",
        "outputId": "fee362b5-ee13-4900-d2bb-8955cd5831f8"
      },
      "execution_count": 35,
      "outputs": [
        {
          "output_type": "execute_result",
          "data": {
            "text/plain": [
              "(50, 1, 28, 28)"
            ]
          },
          "metadata": {},
          "execution_count": 35
        }
      ]
    },
    {
      "cell_type": "markdown",
      "source": [
        "We will need to transpose the NumPy array to plot it with matplotlib (accepts height x width matrices)."
      ],
      "metadata": {
        "id": "ixN9auUWmhSK"
      }
    },
    {
      "cell_type": "code",
      "source": [
        "myimages[0].shape # channel, height, width"
      ],
      "metadata": {
        "execution": {
          "iopub.status.busy": "2022-11-20T12:00:56.314685Z",
          "iopub.execute_input": "2022-11-20T12:00:56.315147Z",
          "iopub.status.idle": "2022-11-20T12:00:56.323107Z",
          "shell.execute_reply.started": "2022-11-20T12:00:56.315106Z",
          "shell.execute_reply": "2022-11-20T12:00:56.321927Z"
        },
        "trusted": true,
        "colab": {
          "base_uri": "https://localhost:8080/"
        },
        "id": "ZudbwrO6mhSK",
        "outputId": "0ac38974-23c4-4664-ff32-88638cd06114"
      },
      "execution_count": 37,
      "outputs": [
        {
          "output_type": "execute_result",
          "data": {
            "text/plain": [
              "(1, 28, 28)"
            ]
          },
          "metadata": {},
          "execution_count": 37
        }
      ]
    },
    {
      "cell_type": "code",
      "source": [
        "myimages[0].transpose(1,2,0).shape # height, width, channel"
      ],
      "metadata": {
        "execution": {
          "iopub.status.busy": "2022-11-20T12:00:58.23949Z",
          "iopub.execute_input": "2022-11-20T12:00:58.239877Z",
          "iopub.status.idle": "2022-11-20T12:00:58.24684Z",
          "shell.execute_reply.started": "2022-11-20T12:00:58.239846Z",
          "shell.execute_reply": "2022-11-20T12:00:58.245747Z"
        },
        "trusted": true,
        "colab": {
          "base_uri": "https://localhost:8080/"
        },
        "id": "I9cnpXqNmhSK",
        "outputId": "966f084b-8b51-400b-f2fa-c99581415747"
      },
      "execution_count": 38,
      "outputs": [
        {
          "output_type": "execute_result",
          "data": {
            "text/plain": [
              "(28, 28, 1)"
            ]
          },
          "metadata": {},
          "execution_count": 38
        }
      ]
    },
    {
      "cell_type": "code",
      "source": [
        "fig, ax = plt.subplots(nrows = 5, ncols = 10, figsize=(8,4), subplot_kw={'xticks': [], 'yticks': []})\n",
        "for row in range(0,5):\n",
        "    for col in range(0,10):\n",
        "        myid = (10*row) + col # (ncols*rows) + cols\n",
        "\n",
        "        ax[row,col].imshow( myimages[myid].transpose(1,2,0), cmap = 'gist_yarg' ) # W,H,C\n",
        "        ax[row,col].axis('off')"
      ],
      "metadata": {
        "execution": {
          "iopub.status.busy": "2022-11-20T12:01:00.409224Z",
          "iopub.execute_input": "2022-11-20T12:01:00.409613Z",
          "iopub.status.idle": "2022-11-20T12:01:01.80208Z",
          "shell.execute_reply.started": "2022-11-20T12:01:00.409583Z",
          "shell.execute_reply": "2022-11-20T12:01:01.800892Z"
        },
        "trusted": true,
        "colab": {
          "base_uri": "https://localhost:8080/",
          "height": 344
        },
        "id": "DOb9RX3hmhSK",
        "outputId": "5d84fd82-8d8d-4822-eb1a-384a7e822fff"
      },
      "execution_count": 39,
      "outputs": [
        {
          "output_type": "display_data",
          "data": {
            "text/plain": [
              "<Figure size 800x400 with 50 Axes>"
            ],
            "image/png": "[encoded data removed]"
          },
          "metadata": {}
        }
      ]
    },
    {
      "cell_type": "markdown",
      "source": [
        "# Create the network\n",
        "\n",
        "The training set contains 60,000 records with 784 incoming features. The first layer is 784 neurons. After that, we create two fully connected layers of 120 and 84 neurons, respectively. The activation function we use is a Rectified Linear Unit (ReLU) function. This piecewise function that makes negative inputs to the neuron will be zero and scales up to positive ones.\n",
        "\n",
        "Finally, the output layer contains ten layers. Every layer is the probability of having the label given (from 1 to 10), with the condition that the sum of the probabilities is one (Log softmax)."
      ],
      "metadata": {
        "id": "CDekgIaFmhSK"
      }
    },
    {
      "cell_type": "code",
      "source": [
        "class MultilayerPerceptron(nn.Module):\n",
        "    def __init__(self):\n",
        "      super(MultilayerPerceptron, self).__init__()\n",
        "      self.hidden1 = nn.Linear(784, 784)\n",
        "      self.hidden2 = nn.Linear(784, 120)\n",
        "      self.hidden3 = nn.Linear(120, 84)\n",
        "      self.output = nn.LogSoftmax(dim=1)\n",
        "\n",
        "    def forward(self, x):\n",
        "      x = F.relu(self.hidden1(x))\n",
        "      x = F.relu(self.hidden2(x))\n",
        "      x = self.output(x)\n",
        "      return x\n"
      ],
      "metadata": {
        "execution": {
          "iopub.status.busy": "2022-11-20T12:01:06.042304Z",
          "iopub.execute_input": "2022-11-20T12:01:06.042691Z",
          "iopub.status.idle": "2022-11-20T12:01:06.05135Z",
          "shell.execute_reply.started": "2022-11-20T12:01:06.042661Z",
          "shell.execute_reply": "2022-11-20T12:01:06.050039Z"
        },
        "trusted": true,
        "id": "3R2Pw09KmhSK"
      },
      "execution_count": 42,
      "outputs": []
    },
    {
      "cell_type": "code",
      "source": [
        "torch.manual_seed(101)\n",
        "\n",
        "mymodel = MultilayerPerceptron() # default params are in_features = 784, out_features=10\n",
        "mymodel # check topology"
      ],
      "metadata": {
        "execution": {
          "iopub.status.busy": "2022-11-20T12:01:07.534523Z",
          "iopub.execute_input": "2022-11-20T12:01:07.535632Z",
          "iopub.status.idle": "2022-11-20T12:01:07.54395Z",
          "shell.execute_reply.started": "2022-11-20T12:01:07.535591Z",
          "shell.execute_reply": "2022-11-20T12:01:07.542867Z"
        },
        "trusted": true,
        "colab": {
          "base_uri": "https://localhost:8080/"
        },
        "id": "AtDosVmmmhSK",
        "outputId": "228e3d66-7c40-4b9f-c4ac-bfb470fb06f1"
      },
      "execution_count": 43,
      "outputs": [
        {
          "output_type": "execute_result",
          "data": {
            "text/plain": [
              "MultilayerPerceptron(\n",
              "  (hidden1): Linear(in_features=784, out_features=784, bias=True)\n",
              "  (hidden2): Linear(in_features=784, out_features=120, bias=True)\n",
              "  (hidden3): Linear(in_features=120, out_features=84, bias=True)\n",
              "  (output): LogSoftmax(dim=1)\n",
              ")"
            ]
          },
          "metadata": {},
          "execution_count": 43
        }
      ]
    },
    {
      "cell_type": "markdown",
      "source": [
        "* We select the [cross-entroy](https://pytorch.org/docs/stable/generated/torch.nn.functional.cross_entropy.html?highlight=entropy) as the cost function. The cross-entropy is similar to the quadratic formula, but it predicts the probability distribution of each class.\n",
        "\n",
        "* We define the optimization method. The simplest one is the [Adaptative Stochastic Gradient Descent method](https://pytorch.org/docs/stable/generated/torch.optim.Adam.html)."
      ],
      "metadata": {
        "id": "cwBRpG7amhSK"
      }
    },
    {
      "cell_type": "code",
      "source": [
        "learning_rate = 1e-3\n",
        "# imgs, labels = train_data\n",
        "criterion = nn.CrossEntropyLoss()\n",
        "\n",
        "optimizer = torch.optim.Adam(mymodel.parameters(), lr = learning_rate)"
      ],
      "metadata": {
        "execution": {
          "iopub.status.busy": "2022-11-20T12:01:10.616172Z",
          "iopub.execute_input": "2022-11-20T12:01:10.617368Z",
          "iopub.status.idle": "2022-11-20T12:01:10.622927Z",
          "shell.execute_reply.started": "2022-11-20T12:01:10.617323Z",
          "shell.execute_reply": "2022-11-20T12:01:10.621805Z"
        },
        "trusted": true,
        "id": "XCLSgJtcmhSL"
      },
      "execution_count": 44,
      "outputs": []
    },
    {
      "cell_type": "markdown",
      "source": [
        "How many parameters do we need to evaluate?\n",
        "\n",
        "* Number of weights = (784 x 120) + (120 x 84) + (84 x 10) = 105,000\n",
        "* Number of biases = 120 + 84 + 10 = 214\n",
        "\n",
        "Total = 105,214"
      ],
      "metadata": {
        "id": "Y2IHdlK9mhSL"
      }
    },
    {
      "cell_type": "code",
      "source": [
        "params = [p.numel() for p in mymodel.parameters() if p.requires_grad]\n",
        "np.sum(params)"
      ],
      "metadata": {
        "execution": {
          "iopub.status.busy": "2022-11-20T12:01:13.523456Z",
          "iopub.execute_input": "2022-11-20T12:01:13.523874Z",
          "iopub.status.idle": "2022-11-20T12:01:13.531517Z",
          "shell.execute_reply.started": "2022-11-20T12:01:13.523838Z",
          "shell.execute_reply": "2022-11-20T12:01:13.530481Z"
        },
        "trusted": true,
        "colab": {
          "base_uri": "https://localhost:8080/"
        },
        "id": "aZT9w87WmhSL",
        "outputId": "62581ae7-9089-4755-aab5-e5a8cc013d5e"
      },
      "execution_count": 45,
      "outputs": [
        {
          "output_type": "execute_result",
          "data": {
            "text/plain": [
              "719804"
            ]
          },
          "metadata": {},
          "execution_count": 45
        }
      ]
    },
    {
      "cell_type": "markdown",
      "source": [
        "# Training and evaluation\n",
        "\n",
        "1. Before starting, we must consider that the DataLoader returns a tensor of size [100,1,28,28], but our model accepts 1D vectors of 784 pixels (28x28). Therefore, we must flatten the tensor to accommodate the model's input."
      ],
      "metadata": {
        "id": "YP92wouYmhSL"
      }
    },
    {
      "cell_type": "code",
      "source": [
        "# Plot 10 images\n",
        "myiter = iter(train_loader)\n",
        "img, label = myiter.__next__() # only one iteration\n",
        "img.shape # batch_size, channel, Height, Width"
      ],
      "metadata": {
        "execution": {
          "iopub.status.busy": "2022-11-20T12:01:15.761224Z",
          "iopub.execute_input": "2022-11-20T12:01:15.761628Z",
          "iopub.status.idle": "2022-11-20T12:01:15.786276Z",
          "shell.execute_reply.started": "2022-11-20T12:01:15.761596Z",
          "shell.execute_reply": "2022-11-20T12:01:15.785453Z"
        },
        "trusted": true,
        "colab": {
          "base_uri": "https://localhost:8080/"
        },
        "id": "rh1PNPd6mhSL",
        "outputId": "b2e733bc-21dc-4b7a-eb27-013f7a096416"
      },
      "execution_count": 46,
      "outputs": [
        {
          "output_type": "execute_result",
          "data": {
            "text/plain": [
              "torch.Size([100, 1, 28, 28])"
            ]
          },
          "metadata": {},
          "execution_count": 46
        }
      ]
    },
    {
      "cell_type": "markdown",
      "source": [
        "2. We will flatten the dimensions of the batch (1,28,28) that correspond to channel, height, and width. That's a common preprocessing step when using images to allocate a 1D vector to the entry of the network (in our case, a 28 x 28 = 784 vector)."
      ],
      "metadata": {
        "id": "46wCPnYHmhSL"
      }
    },
    {
      "cell_type": "code",
      "source": [
        "img.view(100,-1).shape # 100 batches of 784 pixels"
      ],
      "metadata": {
        "execution": {
          "iopub.status.busy": "2022-11-20T12:01:17.609688Z",
          "iopub.execute_input": "2022-11-20T12:01:17.610583Z",
          "iopub.status.idle": "2022-11-20T12:01:17.617167Z",
          "shell.execute_reply.started": "2022-11-20T12:01:17.610539Z",
          "shell.execute_reply": "2022-11-20T12:01:17.615907Z"
        },
        "trusted": true,
        "colab": {
          "base_uri": "https://localhost:8080/"
        },
        "id": "hlwLYyDomhSL",
        "outputId": "619e724d-77f2-49f7-8209-776f3efa5142"
      },
      "execution_count": 47,
      "outputs": [
        {
          "output_type": "execute_result",
          "data": {
            "text/plain": [
              "torch.Size([100, 784])"
            ]
          },
          "metadata": {},
          "execution_count": 47
        }
      ]
    },
    {
      "cell_type": "markdown",
      "source": [
        "Let's evaluate that batch without training the model. The prediction returns a 100 x 10 tensor. It means that we obtain ten probabilities for every batch of 100 images (shape is [100,10])."
      ],
      "metadata": {
        "id": "gKfkIkyZmhSL"
      }
    },
    {
      "cell_type": "code",
      "source": [
        "y_pred = mymodel( img.view(100,-1) )\n",
        "y_pred.shape # 100 x 10, meaning for every batch (100) we obtain  (10 probabilities) predictions"
      ],
      "metadata": {
        "execution": {
          "iopub.status.busy": "2022-11-20T12:01:19.582222Z",
          "iopub.execute_input": "2022-11-20T12:01:19.582677Z",
          "iopub.status.idle": "2022-11-20T12:01:19.60963Z",
          "shell.execute_reply.started": "2022-11-20T12:01:19.582639Z",
          "shell.execute_reply": "2022-11-20T12:01:19.608831Z"
        },
        "trusted": true,
        "colab": {
          "base_uri": "https://localhost:8080/"
        },
        "id": "ay0VG3cmmhSL",
        "outputId": "0a80e248-84be-48d1-e2a8-56c3267b151b"
      },
      "execution_count": 48,
      "outputs": [
        {
          "output_type": "execute_result",
          "data": {
            "text/plain": [
              "torch.Size([100, 120])"
            ]
          },
          "metadata": {},
          "execution_count": 48
        }
      ]
    },
    {
      "cell_type": "markdown",
      "source": [
        "If we calculate the index with the highest probability for every label outcome, we obtain:"
      ],
      "metadata": {
        "execution": {
          "iopub.status.busy": "2022-08-07T00:53:24.531953Z",
          "iopub.execute_input": "2022-08-07T00:53:24.532474Z",
          "iopub.status.idle": "2022-08-07T00:53:24.540818Z",
          "shell.execute_reply.started": "2022-08-07T00:53:24.532436Z",
          "shell.execute_reply": "2022-08-07T00:53:24.53935Z"
        },
        "id": "YzaMdCJDmhSL"
      }
    },
    {
      "cell_type": "code",
      "source": [
        "val, idx = torch.max(y_pred, dim=1) # dim 1 is for the output\n",
        "idx # indices == predictions"
      ],
      "metadata": {
        "execution": {
          "iopub.status.busy": "2022-11-20T12:01:20.433201Z",
          "iopub.execute_input": "2022-11-20T12:01:20.433897Z",
          "iopub.status.idle": "2022-11-20T12:01:20.443568Z",
          "shell.execute_reply.started": "2022-11-20T12:01:20.433859Z",
          "shell.execute_reply": "2022-11-20T12:01:20.442461Z"
        },
        "trusted": true,
        "colab": {
          "base_uri": "https://localhost:8080/"
        },
        "id": "1BWJrjS_mhSL",
        "outputId": "76c379cb-0214-4f8b-a369-20ddc41ccd42"
      },
      "execution_count": 49,
      "outputs": [
        {
          "output_type": "execute_result",
          "data": {
            "text/plain": [
              "tensor([51, 71, 93, 51, 93, 31, 93, 93, 51, 93, 21, 93, 51, 93, 93, 71, 93, 93,\n",
              "        21, 93, 51, 51, 93, 93, 93, 51, 51, 51, 40, 93, 93, 51, 21, 51, 51, 51,\n",
              "        93, 94, 31, 93, 93, 93, 93, 93, 93, 51, 93, 71, 71, 93, 66, 21, 93, 71,\n",
              "        93, 93, 93, 93, 93, 51, 93, 93, 71, 93, 71, 71, 71, 51, 51, 51, 71, 93,\n",
              "        51, 51, 93, 94, 51, 93, 71, 51, 51, 21, 71, 71, 51, 93, 21, 93, 71, 71,\n",
              "        51, 71, 93, 71, 71, 93, 93, 51, 93, 93])"
            ]
          },
          "metadata": {},
          "execution_count": 49
        }
      ]
    },
    {
      "cell_type": "markdown",
      "source": [
        "3. We will calculate the model's accuracy in every epoch (number of correct projections in/batch size) for both the train and the test dataset."
      ],
      "metadata": {
        "id": "Dxi2oERkmhSL"
      }
    },
    {
      "cell_type": "code",
      "source": [
        "# tracking variables\n",
        "\n",
        "class Loss:\n",
        "    \"\"\" Class to monitor train and test lost\"\"\"\n",
        "    train: list = []\n",
        "    test: list = []\n",
        "\n",
        "\n",
        "class Accuracy:\n",
        "    \"\"\" Class to monitor train and test accuracy\"\"\"\n",
        "    train: list = []\n",
        "    test: list = []"
      ],
      "metadata": {
        "execution": {
          "iopub.status.busy": "2022-11-20T12:03:23.607963Z",
          "iopub.execute_input": "2022-11-20T12:03:23.608414Z",
          "iopub.status.idle": "2022-11-20T12:03:23.616421Z",
          "shell.execute_reply.started": "2022-11-20T12:03:23.608381Z",
          "shell.execute_reply": "2022-11-20T12:03:23.615034Z"
        },
        "trusted": true,
        "id": "VrS4siMtmhSL"
      },
      "execution_count": 72,
      "outputs": []
    },
    {
      "cell_type": "code",
      "source": [
        "%%time\n",
        "epochs = 10\n",
        "\n",
        "for epoch in range(epochs):\n",
        "    mymodel.train()\n",
        "    total_train = 0\n",
        "    correct_train = 0\n",
        "    total_epoch_train_loss = 0\n",
        "\n",
        "    total_test = 0\n",
        "    correct_test = 0\n",
        "    total_epoch_test_loss = 0\n",
        "\n",
        "    for batch_idx, (X_train, y_train) in enumerate(train_loader):  # Iterate over batches\n",
        "        optimizer.zero_grad()\n",
        "        y_pred = mymodel(X_train.view(X_train.size(0), -1))\n",
        "\n",
        "        # Calculate loss\n",
        "        loss = criterion(y_pred, y_train)\n",
        "        total_epoch_train_loss += loss.item()\n",
        "\n",
        "        # Backward pass: Compute gradient of the loss with respect to model parameters\n",
        "        loss.backward()\n",
        "        # Update model parameters\n",
        "        optimizer.step()\n",
        "\n",
        "        ## Calculate the number of correct predictions\n",
        "        _, predicted = y_pred.max(1)  # Get the index of the highest probability class\n",
        "        correct_train += (predicted == y_train).sum().item()  # Count correct predictions\n",
        "        total_train += y_train.size(0)  # Total number of samples\n",
        "\n",
        "    # Calculate training accuracy\n",
        "    train_accuracy = correct_train / total_train\n",
        "    Accuracy.train.append(train_accuracy)\n",
        "\n",
        "    average_epoch_train_loss = total_epoch_train_loss / total_train\n",
        "    Loss.train.append(average_epoch_train_loss)\n",
        "\n",
        "    for batch_idx, (X_test, y_test) in enumerate(test_loader):  # Iterate over batches\n",
        "        y_pred = mymodel(X_test.view(X_test.size(0), -1))\n",
        "\n",
        "        # Calculate loss\n",
        "        loss = criterion(y_pred, y_test)\n",
        "        total_epoch_test_loss += loss.item()\n",
        "\n",
        "        ## Calculate the number of correct predictions\n",
        "        _, predicted = y_pred.max(1)  # Get the index of the highest probability class\n",
        "        correct_test += (predicted == y_test).sum().item()  # Count correct predictions\n",
        "        total_test += y_test.size(0)  # Total number of samples\n",
        "\n",
        "    # Calculate test accuracy\n",
        "    test_accuracy = correct_test / total_test\n",
        "    Accuracy.test.append(test_accuracy)\n",
        "\n",
        "    average_epoch_test_loss = total_epoch_test_loss / total_test\n",
        "    Loss.test.append(average_epoch_test_loss)"
      ],
      "metadata": {
        "execution": {
          "iopub.status.busy": "2022-11-20T12:03:24.595312Z",
          "iopub.execute_input": "2022-11-20T12:03:24.596362Z",
          "iopub.status.idle": "2022-11-20T12:04:51.579405Z",
          "shell.execute_reply.started": "2022-11-20T12:03:24.596303Z",
          "shell.execute_reply": "2022-11-20T12:04:51.578093Z"
        },
        "trusted": true,
        "colab": {
          "base_uri": "https://localhost:8080/"
        },
        "id": "R3Lvced1mhSL",
        "outputId": "eed45d82-547e-49fc-f469-bf2367dbc471"
      },
      "execution_count": 73,
      "outputs": [
        {
          "output_type": "stream",
          "name": "stdout",
          "text": [
            "CPU times: user 2min 54s, sys: 287 ms, total: 2min 54s\n",
            "Wall time: 2min 55s\n"
          ]
        }
      ]
    },
    {
      "cell_type": "code",
      "source": [
        "Loss.train"
      ],
      "metadata": {
        "colab": {
          "base_uri": "https://localhost:8080/"
        },
        "id": "tKxvWsgh0JkQ",
        "outputId": "40159a20-276c-48d2-c8ec-d2e22cc11604"
      },
      "execution_count": 74,
      "outputs": [
        {
          "output_type": "execute_result",
          "data": {
            "text/plain": [
              "[0.010240127023557822,\n",
              " 0.010206112796068192,\n",
              " 0.010190855849782627,\n",
              " 0.010224590867261091,\n",
              " 0.01016307021578153,\n",
              " 0.01015600344389677,\n",
              " 0.010155411840478579,\n",
              " 0.010106176227827867,\n",
              " 0.010146489262084167,\n",
              " 0.010138532630602519]"
            ]
          },
          "metadata": {},
          "execution_count": 74
        }
      ]
    },
    {
      "cell_type": "code",
      "source": [
        "# Testing Phase\n",
        "\"\"\"mymodel.eval()  # Set the model to evaluation mode\n",
        "test_loss = 0\n",
        "correct = 0\n",
        "total = 0\n",
        "with torch.no_grad():  # No need to track gradients for testing\n",
        "    for X_test, y_test in test_loader:  # Iterate over the test set\n",
        "        # Forward pass: Get predictions\n",
        "        y_pred = mymodel(X_test.view(X_test.size(0), -1))\n",
        "        # Calculate loss\n",
        "        loss = criterion(y_pred, y_test)\n",
        "        test_loss += loss.item()\n",
        "        # Get the predicted class\n",
        "        _, predicted = y_pred.max(1)\n",
        "        total += y_test.size(0)\n",
        "        correct += (predicted == y_test).sum().item()\n",
        "        Loss.test.append(loss.item())\"\"\""
      ],
      "metadata": {
        "id": "Rwn7GdPczRXf"
      },
      "execution_count": 53,
      "outputs": []
    },
    {
      "cell_type": "markdown",
      "source": [
        "# Visualization"
      ],
      "metadata": {
        "execution": {
          "iopub.status.busy": "2022-08-06T02:24:07.967843Z",
          "iopub.execute_input": "2022-08-06T02:24:07.968441Z",
          "iopub.status.idle": "2022-08-06T02:24:07.972846Z",
          "shell.execute_reply.started": "2022-08-06T02:24:07.968408Z",
          "shell.execute_reply": "2022-08-06T02:24:07.971569Z"
        },
        "id": "s5qwhzJ6mhSO"
      }
    },
    {
      "cell_type": "markdown",
      "source": [
        "We'll see train and test losses, together with its accuracies per epoch. Note that the training data have more minor losses and reach an accuracy of almost 100%. On the other hand, the test data reach almost a plateau of > 95% accuracy, and we could think of using more than two epochs because this is where the training data crosses the accuracy of the testing data."
      ],
      "metadata": {
        "id": "1y95rfPYmhSP"
      }
    },
    {
      "cell_type": "code",
      "source": [
        "fig, ax = plt.subplots(nrows=1, ncols=2, figsize=(12,4))\n",
        "ax[0].plot(Loss.train, label = 'Training')\n",
        "ax[0].plot(Loss.test, label='test/validation')\n",
        "ax[0].set_ylabel('Loss', fontsize=16)\n",
        "\n",
        "\n",
        "ax[1].plot(Accuracy.train, label = 'Training')\n",
        "ax[1].plot(Accuracy.test, label='test/validation')\n",
        "ax[1].set_yticks(range(85,110,5))\n",
        "ax[1].axvline(x=2, color='gray', linestyle=':')\n",
        "ax[1].axhline(y=100, color='gray', linestyle=':')\n",
        "ax[1].set_ylabel('Accuracy (%)', fontsize=16)\n",
        "\n",
        "for myax in ax:\n",
        "    myax.set_xlabel('Epoch', fontsize=16)\n",
        "    myax.set_xticks(range(epochs))\n",
        "    myax.legend(frameon=False)\n",
        "\n"
      ],
      "metadata": {
        "execution": {
          "iopub.status.busy": "2022-11-20T12:19:02.347292Z",
          "iopub.execute_input": "2022-11-20T12:19:02.347668Z",
          "iopub.status.idle": "2022-11-20T12:19:02.694434Z",
          "shell.execute_reply.started": "2022-11-20T12:19:02.347638Z",
          "shell.execute_reply": "2022-11-20T12:19:02.693078Z"
        },
        "trusted": true,
        "colab": {
          "base_uri": "https://localhost:8080/",
          "height": 399
        },
        "id": "w8hnPJOOmhSP",
        "outputId": "36ca408e-71f3-40f1-d821-044ed431ddf9"
      },
      "execution_count": 75,
      "outputs": [
        {
          "output_type": "display_data",
          "data": {
            "text/plain": [
              "<Figure size 1200x400 with 2 Axes>"
            ],
            "image/png": "[encoded data removed]"
          },
          "metadata": {}
        }
      ]
    },
    {
      "cell_type": "markdown",
      "source": [
        "Finally, we evaluate all the test data at once and visualize the accuracy of every outcome for every prediction (i.e., confusion matrix)."
      ],
      "metadata": {
        "execution": {
          "iopub.status.busy": "2022-08-08T00:59:08.129764Z",
          "iopub.execute_input": "2022-08-08T00:59:08.130182Z",
          "iopub.status.idle": "2022-08-08T00:59:08.137731Z",
          "shell.execute_reply.started": "2022-08-08T00:59:08.130148Z",
          "shell.execute_reply": "2022-08-08T00:59:08.136336Z"
        },
        "id": "isNYJimwmhSP"
      }
    },
    {
      "cell_type": "code",
      "source": [
        "test_loader =  DataLoader(test_data,  batch_size = 10_000, shuffle=False) # the whole test is 10,000 images\n",
        "myiter = iter(test_loader)\n",
        "img, label = myiter.__next__()\n",
        "img.shape"
      ],
      "metadata": {
        "execution": {
          "iopub.status.busy": "2022-11-20T12:19:10.729477Z",
          "iopub.execute_input": "2022-11-20T12:19:10.729899Z",
          "iopub.status.idle": "2022-11-20T12:19:11.901358Z",
          "shell.execute_reply.started": "2022-11-20T12:19:10.729859Z",
          "shell.execute_reply": "2022-11-20T12:19:11.900128Z"
        },
        "trusted": true,
        "colab": {
          "base_uri": "https://localhost:8080/"
        },
        "id": "y2x-4nJJmhSP",
        "outputId": "2436e7c1-696a-4863-d3f1-7e758f649114"
      },
      "execution_count": 76,
      "outputs": [
        {
          "output_type": "execute_result",
          "data": {
            "text/plain": [
              "torch.Size([10000, 1, 28, 28])"
            ]
          },
          "metadata": {},
          "execution_count": 76
        }
      ]
    },
    {
      "cell_type": "code",
      "source": [
        "with torch.no_grad():\n",
        "    correct = 0\n",
        "\n",
        "    for X, y_label in test_loader:\n",
        "            y_val = mymodel( X.view(X.shape[0],-1) ) # flatten\n",
        "            _, predicted = torch.max( y_val, dim = 1)\n",
        "            correct += (predicted == y_label).sum()\n",
        "\n",
        "print(f'Test accuracy: = {correct.item()*100/(len(test_data)):2.4f} %')"
      ],
      "metadata": {
        "execution": {
          "iopub.status.busy": "2022-11-20T12:19:15.641037Z",
          "iopub.execute_input": "2022-11-20T12:19:15.641444Z",
          "iopub.status.idle": "2022-11-20T12:19:16.637063Z",
          "shell.execute_reply.started": "2022-11-20T12:19:15.641413Z",
          "shell.execute_reply": "2022-11-20T12:19:16.635805Z"
        },
        "trusted": true,
        "colab": {
          "base_uri": "https://localhost:8080/"
        },
        "id": "ftfoU7GwmhSP",
        "outputId": "7383ad1d-b482-4f12-8711-d47883b3677b"
      },
      "execution_count": 77,
      "outputs": [
        {
          "output_type": "stream",
          "name": "stdout",
          "text": [
            "Test accuracy: = 78.2000 %\n"
          ]
        }
      ]
    },
    {
      "cell_type": "code",
      "source": [
        "# Show the confusion matrix\n",
        "matrix = confusion_matrix(y_test, predictions)\n",
        "matrix"
      ],
      "metadata": {
        "execution": {
          "iopub.status.busy": "2022-11-20T12:19:19.35135Z",
          "iopub.execute_input": "2022-11-20T12:19:19.351999Z",
          "iopub.status.idle": "2022-11-20T12:19:19.802896Z",
          "shell.execute_reply.started": "2022-11-20T12:19:19.351962Z",
          "shell.execute_reply": "2022-11-20T12:19:19.801705Z"
        },
        "trusted": true,
        "id": "NxDAaXakmhSP"
      },
      "execution_count": null,
      "outputs": []
    },
    {
      "cell_type": "code",
      "source": [
        "# Show the heatmap corresponding to the confusion matrix\n",
        "plt.imshow(matrix, cmap='hot')"
      ],
      "metadata": {
        "execution": {
          "iopub.status.busy": "2022-11-20T12:19:22.262835Z",
          "iopub.execute_input": "2022-11-20T12:19:22.263252Z",
          "iopub.status.idle": "2022-11-20T12:19:23.045818Z",
          "shell.execute_reply.started": "2022-11-20T12:19:22.263218Z",
          "shell.execute_reply": "2022-11-20T12:19:23.04464Z"
        },
        "trusted": true,
        "id": "AW7TC7dOmhSP"
      },
      "execution_count": null,
      "outputs": []
    },
    {
      "cell_type": "code",
      "source": [],
      "metadata": {
        "id": "ZCAPhyz-mhSP"
      },
      "execution_count": null,
      "outputs": []
    }
  ]
}